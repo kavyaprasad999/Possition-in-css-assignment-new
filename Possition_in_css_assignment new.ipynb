{
  "nbformat": 4,
  "nbformat_minor": 0,
  "metadata": {
    "colab": {
      "provenance": []
    },
    "kernelspec": {
      "name": "python3",
      "display_name": "Python 3"
    },
    "language_info": {
      "name": "python"
    }
  },
  "cells": [
    {
      "cell_type": "markdown",
      "source": [
        "Possition in css assignment"
      ],
      "metadata": {
        "id": "o7JBcnRvzJHx"
      }
    },
    {
      "cell_type": "markdown",
      "source": [
        "Problem Statement\n",
        "\n",
        "1 Write code to position 5 equal-sized (50 X 50px) boxes A, B, C, D, and E as followsC\n",
        "\u001aH box A 200px from the left, and 200px from the top of the viewportH\n",
        "0H box B -30px left, and -30px above from the center of box AH\n",
        "MH box B -30px right, and -30px above from the center of box AH\n",
        "\u0016H box B -30px left, and -30px below from the center of box AH\n",
        "4H box B -30px right, and -30px below from the center of box A."
      ],
      "metadata": {
        "id": "PT-WhLtDzSXe"
      }
    },
    {
      "cell_type": "markdown",
      "source": [
        "Box A: * Give Box A a fixed or relative position, and set its dimensions (e.g., 200px x 200px). This will serve as the reference point for the other boxes.\n",
        "Box B: * Position Box B using absolute positioning.\n",
        "Set its top and left properties to 200px.\n",
        "Boxes C, D, E: * Position these boxes using absolute positioning as well.\n",
        "To position them relative to the center of Box A, you'll need to calculate the center coordinates of Box A. You can do this using CSS calc() or by using JavaScript.\n",
        "Here's the CSS calc() approach:\n",
        "For example, to position Box C 30px to the right and 30px above the center of Box A, you would use:\n",
        "\n",
        "top: calc(50% - 30px); /* 50% is the vertical center, -30px moves it up */\n",
        "left: calc(50% + 30px); /* 50% is the horizontal center, +30px moves it right */\n",
        "\n",
        "HTML Structure\n",
        "\n",
        "<div class=\"container\">\n",
        "    <div class=\"box box-a\">A</div>\n",
        "    <div class=\"box box-b\">B</div>\n",
        "    <div class=\"box box-c\">C</div>\n",
        "    <div class=\"box box-d\">D</div>\n",
        "    <div class=\"box box-e\">E</div>\n",
        "</div>\n",
        "\n",
        "CSS Structure\n",
        "\n",
        ".container {\n",
        "    position: relative; /* Make sure the container is a positioning context */\n",
        "    /* Other styles for the container */\n",
        "}\n",
        ".box-a {\n",
        "    position: absolute; /* Or relative, depending on your layout */\n",
        "    width: 200px;\n",
        "    height: 200px;\n",
        "    top: 0;\n",
        "    left: 0;\n",
        "    /* Styles for Box A */\n",
        "}\n",
        ".box-b {\n",
        "    position: absolute;\n",
        "    top: 200px;\n",
        "    left: 200px;\n",
        "    /* Styles for Box B */\n",
        "}\n",
        ".box-c, .box-d, .box-e{\n",
        "   position: absolute;\n",
        "}\n",
        ".box-c {\n",
        "    top: calc(50% - 30px);\n",
        "    left: calc(50% + 30px);\n",
        "}\n",
        ".box-d{\n",
        "   top: calc(50% + 30px);\n",
        "    left: calc(50% - 30px);\n",
        "}\n",
        ".box-e{\n",
        "   top: calc(50% + 30px);\n",
        "    left: calc(50% + 30px);\n",
        "}\n",
        "/* Styles for Boxes C, D, and E */"
      ],
      "metadata": {
        "id": "CCjktPWXzcr0"
      }
    },
    {
      "cell_type": "markdown",
      "source": [
        "Task 2:\n",
        "\n",
        "\n",
        "Problem Statement\n",
        "\n",
        "Explain the difference between Absolute and Relative positioning"
      ],
      "metadata": {
        "id": "kn8519uCz3nu"
      }
    },
    {
      "cell_type": "markdown",
      "source": [
        "Relative Positioning:\n",
        "An element with position: relative; is positioned relative to its normal position in the document flow.\n",
        "The top, right, bottom, and left properties specify offsets from its normal position.\n",
        "Other elements are not affected by the element's offset; they behave as if the element were still in its original position.\n",
        "Relative positioning is often used to adjust an element's position slightly without disrupting the layout or to create a positioning context for absolutely positioned children.\n",
        "Absolute Positioning:\n",
        "An element with position: absolute; is removed from the normal document flow.\n",
        "It is positioned relative to its nearest positioned ancestor (an ancestor with a position of relative, absolute, fixed, or sticky). If there is no positioned ancestor, it is positioned relative to the initial containing block (the <html> element).\n",
        "The top, right, bottom, and left properties specify offsets from the edges of the containing block.\n",
        "Absolutely positioned elements can overlap other elements."
      ],
      "metadata": {
        "id": "jPoek7QJ0Cyh"
      }
    },
    {
      "cell_type": "markdown",
      "source": [
        "Task 3:\n",
        "\n",
        "\n",
        "Problem Statement\n",
        "\n",
        "Create a card as shown in the picture below. (You can use CSS float property only for layout)"
      ],
      "metadata": {
        "id": "Wo5lS1gp0Tk7"
      }
    },
    {
      "cell_type": "markdown",
      "source": [
        "Task 3: Create a Card\n",
        "\n",
        "To create the card layout, you can use a combination of HTML and CSS. Here's a basic structure:\n",
        "\n",
        "HTML Structure"
      ],
      "metadata": {
        "id": "eMt_bt1G0ac9"
      }
    },
    {
      "cell_type": "markdown",
      "source": [
        "<div class=\"card\">\n",
        "    <div class=\"card-header\">\n",
        "        <h2>The Earth</h2>\n",
        "    </div>\n",
        "    <div class=\"card-content\">\n",
        "        <p>\n",
        "            Nature's... (rest of your text)\n",
        "        </p>\n",
        "    </div>\n",
        "    <div class=\"card-image\">\n",
        "        <img src=\"earth-image.jpg\" alt=\"Earth\">\n",
        "    </div>\n",
        "</div>"
      ],
      "metadata": {
        "id": "4N81Ujca0isY"
      }
    },
    {
      "cell_type": "markdown",
      "source": [
        ".CSS code\n",
        "\n",
        ".card {\n",
        "    width: 300px; /* Or whatever width you want */\n",
        "    border: 1px solid #ccc;\n",
        "    border-radius: 8px;\n",
        "    box-shadow: 0 4px 8px rgba(0,0,0,0.1);\n",
        "    /* Other card styles */\n",
        "}\n",
        ".card-header {\n",
        "    padding: 10px;\n",
        "    border-bottom: 1px solid #eee;\n",
        "    /* Header styles */\n",
        "}\n",
        ".card-content {\n",
        "    padding: 10px;\n",
        "    /* Content styles */\n",
        "}\n",
        ".card-image img {\n",
        "    width: 100%;\n",
        "    border-radius-bottom-left: 8px;\n",
        "    border-radius-bottom-right: 8px;\n",
        "}\n",
        "/* img{\n",
        "     object-fit: cover;\n",
        "} */"
      ],
      "metadata": {
        "id": "Tfsn3XOU0l0n"
      }
    },
    {
      "cell_type": "markdown",
      "source": [
        "Key CSS Properties for the Card:\n",
        "\n",
        "width: Sets the width of the card.\n",
        "border: Adds a border around the card.\n",
        "border-radius: Rounds the corners of the card.\n",
        "box-shadow: Adds a shadow to the card for a lifted effect.\n",
        "padding: Adds space inside the card elements.\n",
        "margin: Adds space outside the card.\n",
        "object-fit: cover: ensure the image covers the entire container"
      ],
      "metadata": {
        "id": "C7no0ZaN06Ul"
      }
    },
    {
      "cell_type": "markdown",
      "source": [
        "Task 4:\n",
        "\n",
        "\n",
        "Problem Statement\n",
        "\n",
        "Create a simple header that sticks to the top of a webpage upon scrolling."
      ],
      "metadata": {
        "id": "shFGr4lb1ABi"
      }
    },
    {
      "cell_type": "markdown",
      "source": [
        "Task 4: Sticky Header\n",
        "\n",
        "To create a header that sticks to the top of the webpage upon scrolling, you can use the CSS position: sticky; property.\n",
        "\n",
        "HTML"
      ],
      "metadata": {
        "id": "41Re86TT2g66"
      }
    },
    {
      "cell_type": "markdown",
      "source": [
        "<header class=\"sticky-header\">\n",
        "  <div class=\"logo\">LOGO</div>\n",
        "  <nav>\n",
        "    <ul>\n",
        "      <li>Home</li>\n",
        "      <li>Pricing</li>\n",
        "      <li>About</li>\n",
        "      <li>Contact</li>\n",
        "    </ul>\n",
        "  </nav>\n",
        "  <button>Get Started</button>\n",
        "</header>\n",
        "\n",
        "<main>\n",
        "  <section>\n",
        "    <h2>Heading 1</h2>\n",
        "    <p>Lorem ipsum...</p>\n",
        "  </section>\n",
        "  <section>\n",
        "    <h2>Heading 2</h2>\n",
        "     <p>Lorem ipsum...</p>\n",
        "  </section>\n",
        "   <section>\n",
        "    <h2>Heading 3</h2>\n",
        "     <p>Lorem ipsum...</p>\n",
        "  </section>\n",
        "</main>"
      ],
      "metadata": {
        "id": "kh6TqZj62poM"
      }
    },
    {
      "cell_type": "markdown",
      "source": [
        "CSS\n",
        "\n",
        ".sticky-header {\n",
        "  position: sticky;\n",
        "  top: 0;\n",
        "  background-color: #fff; /* Or any background color */\n",
        "  padding: 10px;\n",
        "  box-shadow: 0 2px 4px rgba(0, 0, 0, 0.1); /* Optional shadow */\n",
        "  z-index: 100; /* Ensure it's above other content */\n",
        "  display: flex; /* For layout flexibility */\n",
        "  justify-content: space-around; /* Distribute elements */\n",
        "  align-items: center; /* Vertically center items */\n",
        "}\n",
        "\n",
        ".logo {\n",
        "  font-size: 20px;\n",
        "  font-weight: bold;\n",
        "}\n",
        "\n",
        "nav ul {\n",
        "  list-style: none;\n",
        "  display: flex;\n",
        "  gap: 15px;\n",
        "}\n",
        "\n",
        "nav li {\n",
        "  margin: 0;\n",
        "}\n",
        "\n",
        "button {\n",
        "  background-color: #4CAF50;\n",
        "  color: white;\n",
        "  padding: 10px 15px;\n",
        "  border: none;\n",
        "  cursor: pointer;\n",
        "}\n",
        "\n",
        "main {\n",
        "  padding-top: 70px; /* Add padding to the main content to prevent it from being hidden behind the sticky header */\n",
        "}"
      ],
      "metadata": {
        "id": "8Dv-cYH12sv9"
      }
    },
    {
      "cell_type": "markdown",
      "source": [
        "Explanation\n",
        "\n",
        "HTML:\n",
        "The <header> element with the class \"sticky-header\" contains the logo, navigation, and button.\n",
        "The <main> element contains the rest of the page content.\n",
        "CSS:\n",
        ".sticky-header is set to position: sticky; and top: 0;. This makes it stick to the top of the viewport when the user scrolls.\n",
        "background-color, padding, and box-shadow are added for better visual appearance.\n",
        "z-index ensures the header stays on top of other content.\n",
        "The rest of the CSS styles the header's content.\n",
        "The main element has padding-top to prevent its content from being hidden behind the sticky header."
      ],
      "metadata": {
        "id": "Leizy1f-2004"
      }
    },
    {
      "cell_type": "markdown",
      "source": [
        "Task 5: z-index\n",
        "\n",
        "The z-index property in CSS controls the stacking order of positioned elements (elements whose position property is not static). It determines which elements appear in front or behind others when they overlap.\n",
        "\n",
        "Explanation\n",
        "\n",
        "Elements with a higher z-index value are displayed in front of elements with a lower z-index value.\n",
        "z-index only works on elements with a position value of absolute, relative, fixed, or sticky.\n",
        "Elements with the same z-index value are stacked according to their order in the HTML document (the element that appears later in the HTML is displayed on top).\n",
        "z-index values can be\n",
        " positive or negative.\n",
        "Code Example\n",
        "\n",
        "HTML\n",
        "\n",
        "\n",
        "<div class=\"container\">\n",
        "  <div class=\"box box1\">Box 1 (z-index: 1)</div>\n",
        "  <div class=\"box box2\">Box 2 (z-index: 2)</div>\n",
        "  <div class=\"box box3\">Box 3 (no z-index)</div>\n",
        "</div>\n",
        "\n",
        "CSS\n",
        "\n",
        ".container {\n",
        "  position: relative; /* Create a positioning context */\n",
        "  width: 300px;\n",
        "  height: 200px;\n",
        "  border: 1px solid #000;\n",
        "}\n",
        "\n",
        ".box {\n",
        "  width: 150px;\n",
        "  height: 100px;\n",
        "  position: absolute;\n",
        "  top: 50px;\n",
        "  left: 50px;\n",
        "}\n",
        "\n",
        ".box1 {\n",
        "  background-color: #f94144;\n",
        "  z-index: 1;\n",
        "}\n",
        "\n",
        ".box2 {\n",
        "  background-color: #f3722c;\n",
        "  z-index: 2;\n",
        "  left: 100px; /* Overlapping with Box 1 */\n",
        "}\n",
        "\n",
        ".box3 {\n",
        "  background-color: #f8961e; /* This box will be behind Box 2 */\n",
        "  left: 0px;\n",
        "}\n",
        "\n",
        "Explanation\n",
        "\n",
        "The container is made a positioning context with position: relative;.\n",
        "box1 has a z-index of 1, box2 has a z-index of 2, and box3 has no z-index.\n",
        "box2 overlaps box1, but because it has a higher z-index, it is displayed on top of box1.\n",
        "box3 also overlaps box1, but because it has no z-index, it is displayed behind box2 (which has a higher z-index) and on top of box1(which has a lower z-index)."
      ],
      "metadata": {
        "id": "icKsJgfx25c7"
      }
    },
    {
      "cell_type": "markdown",
      "source": [],
      "metadata": {
        "id": "YairTuzV3QXU"
      }
    }
  ]
}